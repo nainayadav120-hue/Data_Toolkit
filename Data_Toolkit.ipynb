{
  "nbformat": 4,
  "nbformat_minor": 0,
  "metadata": {
    "colab": {
      "provenance": []
    },
    "kernelspec": {
      "name": "python3",
      "display_name": "Python 3"
    },
    "language_info": {
      "name": "python"
    }
  },
  "cells": [
    {
      "cell_type": "markdown",
      "source": [
        "#Theory Questions:"
      ],
      "metadata": {
        "id": "oO6zjwwah4L3"
      }
    },
    {
      "cell_type": "code",
      "source": [
        "#1. What is NumPy, and why is it widely used in Python?\n",
        "\"\"\" NumPy (Numerical Python) is a library in Python for efficient numerical computation. It's widely used in Python because:\n",
        "- Efficient arrays: NumPy provides powerful N-dimensional array objects for efficient storage and operations on large datasets.\n",
        "- Vectorized operations: NumPy enables vectorized operations for faster computations on arrays compared to using Python lists.\n",
        "- Math and scientific functions: NumPy includes a wide range of mathematical and scientific functions for array operations.\n",
        "- Interoperability: NumPy integrates well with other popular Python libraries like Pandas, SciPy, and Matplotlib for data analysis and scientific computing.\n",
        "NumPy is a core library for scientific computing, data analysis, and machine learning in Python.\"\"\""
      ],
      "metadata": {
        "id": "MzRgbxAZiAvY",
        "colab": {
          "base_uri": "https://localhost:8080/",
          "height": 105
        },
        "outputId": "d036805e-7297-46c0-b17c-d11729139fc3"
      },
      "execution_count": 1,
      "outputs": [
        {
          "output_type": "execute_result",
          "data": {
            "text/plain": [
              "\" NumPy (Numerical Python) is a library in Python for efficient numerical computation. It's widely used in Python because:\\n- Efficient arrays: NumPy provides powerful N-dimensional array objects for efficient storage and operations on large datasets.\\n- Vectorized operations: NumPy enables vectorized operations for faster computations on arrays compared to using Python lists.\\n- Math and scientific functions: NumPy includes a wide range of mathematical and scientific functions for array operations.\\n- Interoperability: NumPy integrates well with other popular Python libraries like Pandas, SciPy, and Matplotlib for data analysis and scientific computing.\\nNumPy is a core library for scientific computing, data analysis, and machine learning in Python.\""
            ],
            "application/vnd.google.colaboratory.intrinsic+json": {
              "type": "string"
            }
          },
          "metadata": {},
          "execution_count": 1
        }
      ]
    },
    {
      "cell_type": "code",
      "source": [
        "#2. How does broadcasting work in NumPy?\n",
        "\"\"\" Broadcasting in NumPy is a powerful feature that allows you to perform operations on arrays with different shapes and sizes. Here's how it works:\n",
        "- Matching dimensions: NumPy compares the shapes of the arrays from right to left (i.e., starting with the trailing dimensions).\n",
        "- Size matching or 1: For broadcasting to work, the sizes of the arrays must either match in a dimension or one of the arrays must have a size of 1 in that dimension.\n",
        "- Expanding size 1 dimensions: If one array has a dimension of size 1, it's \"broadcast\" or expanded to match the size of the other array in that dimension.\n",
        "Example: Adding a (3,1) array and a (1,4) array results in a (3,4) array through broadcasting.\"\"\""
      ],
      "metadata": {
        "id": "uO2p6Eh_iAyT",
        "colab": {
          "base_uri": "https://localhost:8080/",
          "height": 105
        },
        "outputId": "88fb8897-b237-4db1-de9c-e3dc2d7c3b13"
      },
      "execution_count": 2,
      "outputs": [
        {
          "output_type": "execute_result",
          "data": {
            "text/plain": [
              "' Broadcasting in NumPy is a powerful feature that allows you to perform operations on arrays with different shapes and sizes. Here\\'s how it works:\\n- Matching dimensions: NumPy compares the shapes of the arrays from right to left (i.e., starting with the trailing dimensions).\\n- Size matching or 1: For broadcasting to work, the sizes of the arrays must either match in a dimension or one of the arrays must have a size of 1 in that dimension.\\n- Expanding size 1 dimensions: If one array has a dimension of size 1, it\\'s \"broadcast\" or expanded to match the size of the other array in that dimension.\\nExample: Adding a (3,1) array and a (1,4) array results in a (3,4) array through broadcasting.'"
            ],
            "application/vnd.google.colaboratory.intrinsic+json": {
              "type": "string"
            }
          },
          "metadata": {},
          "execution_count": 2
        }
      ]
    },
    {
      "cell_type": "code",
      "source": [
        "#3. What is a Pandas DataFrame?\n",
        "\"\"\" A Pandas DataFrame is a 2-dimensional labeled data structure in Python's Pandas library. Think of it like a spreadsheet or a table in a database.\n",
        "- Rows and columns: DataFrames have rows (like observations) and columns (like variables or features).\n",
        "- Labeled axes: Both rows and columns can have labels (indices) for easy data access and manipulation.\n",
        "- Heterogeneous data: Columns can hold different data types (like numbers, strings, dates).\"\"\""
      ],
      "metadata": {
        "id": "J1nW8J8hiA1d",
        "colab": {
          "base_uri": "https://localhost:8080/",
          "height": 70
        },
        "outputId": "94eefb85-77cf-4e69-edf6-1e05c50e1d27"
      },
      "execution_count": 3,
      "outputs": [
        {
          "output_type": "execute_result",
          "data": {
            "text/plain": [
              "\" A Pandas DataFrame is a 2-dimensional labeled data structure in Python's Pandas library. Think of it like a spreadsheet or a table in a database.\\n- Rows and columns: DataFrames have rows (like observations) and columns (like variables or features).\\n- Labeled axes: Both rows and columns can have labels (indices) for easy data access and manipulation.\\n- Heterogeneous data: Columns can hold different data types (like numbers, strings, dates).\""
            ],
            "application/vnd.google.colaboratory.intrinsic+json": {
              "type": "string"
            }
          },
          "metadata": {},
          "execution_count": 3
        }
      ]
    },
    {
      "cell_type": "code",
      "source": [
        "#4. Explain the use of the groupby() method in Pandas.\n",
        "\"\"\" The groupby() method in Pandas is used to:\n",
        "1. Split data: Divide data into groups based on one or more columns.\n",
        "2. Apply functions: Apply aggregation functions, such as mean(), sum(), or count(), to each group.\n",
        "3. Combine results: Combine the results from each group into a new DataFrame.\n",
        "Common use cases include:\n",
        "- Data aggregation: Calculate summary statistics for each group.\n",
        "- Data analysis: Examine relationships between variables within each group.\n",
        "The groupby() method is a powerful tool for data analysis and aggregation in Pandas.\"\"\""
      ],
      "metadata": {
        "id": "hS7tBBUSiA4V",
        "colab": {
          "base_uri": "https://localhost:8080/",
          "height": 87
        },
        "outputId": "e3b469d1-32d9-42b3-f919-8236c805383c"
      },
      "execution_count": 4,
      "outputs": [
        {
          "output_type": "execute_result",
          "data": {
            "text/plain": [
              "' The groupby() method in Pandas is used to:\\n1. Split data: Divide data into groups based on one or more columns.\\n2. Apply functions: Apply aggregation functions, such as mean(), sum(), or count(), to each group.\\n3. Combine results: Combine the results from each group into a new DataFrame.\\nCommon use cases include:\\n- Data aggregation: Calculate summary statistics for each group.\\n- Data analysis: Examine relationships between variables within each group.\\nThe groupby() method is a powerful tool for data analysis and aggregation in Pandas.'"
            ],
            "application/vnd.google.colaboratory.intrinsic+json": {
              "type": "string"
            }
          },
          "metadata": {},
          "execution_count": 4
        }
      ]
    },
    {
      "cell_type": "code",
      "source": [
        "#5. Why is Seaborn preferred for statistical visualizations?\n",
        "\"\"\" Seaborn is preferred for statistical visualizations because:\n",
        "- High-level interface: Seaborn provides a high-level interface for creating informative and attractive statistical graphics.\n",
        "- Integration with Matplotlib: Seaborn builds on Matplotlib, making it easy to create complex visualizations.\n",
        "- Themed plots: Seaborn offers themes for making plots look more attractive and professional.\n",
        "- Specialized plots: Seaborn has functions for creating specialized statistical plots like boxplots, violin plots, and pairplots.\n",
        "Seaborn makes it easy to create beautiful, informative statistical visualizations.\"\"\""
      ],
      "metadata": {
        "id": "z7hNodEOiA7W",
        "colab": {
          "base_uri": "https://localhost:8080/",
          "height": 87
        },
        "outputId": "5e03ebac-061a-4951-fb62-cbe85e905820"
      },
      "execution_count": 5,
      "outputs": [
        {
          "output_type": "execute_result",
          "data": {
            "text/plain": [
              "' Seaborn is preferred for statistical visualizations because:\\n- High-level interface: Seaborn provides a high-level interface for creating informative and attractive statistical graphics.\\n- Integration with Matplotlib: Seaborn builds on Matplotlib, making it easy to create complex visualizations.\\n- Themed plots: Seaborn offers themes for making plots look more attractive and professional.\\n- Specialized plots: Seaborn has functions for creating specialized statistical plots like boxplots, violin plots, and pairplots.\\nSeaborn makes it easy to create beautiful, informative statistical visualizations.'"
            ],
            "application/vnd.google.colaboratory.intrinsic+json": {
              "type": "string"
            }
          },
          "metadata": {},
          "execution_count": 5
        }
      ]
    },
    {
      "cell_type": "code",
      "source": [
        "#6. What are the differences between NumPy arrays and Python lists?\n",
        "\"\"\" Here are the main differences between NumPy arrays and Python lists:\n",
        "- Homogeneous vs Heterogeneous: NumPy arrays are homogeneous (all elements are of the same data type), while Python lists are heterogeneous (can hold elements of different data types).\n",
        "- Memory Efficiency: NumPy arrays are more memory-efficient than Python lists, especially for large datasets.\n",
        "- Performance: NumPy arrays are faster than Python lists for numerical computations due to vectorized operations.\n",
        "- Operations: NumPy arrays support element-wise operations and matrix operations, while Python lists do not.\n",
        "- Dimensionality: NumPy arrays can be multi-dimensional, while Python lists can be nested but don't support the same level of dimensionality as NumPy arrays.\n",
        "NumPy arrays are ideal for numerical computations, while Python lists are better suited for general-purpose programming.\"\"\""
      ],
      "metadata": {
        "id": "yKrx2asaiA-O",
        "colab": {
          "base_uri": "https://localhost:8080/",
          "height": 122
        },
        "outputId": "1c35ea1b-0906-4306-a4d3-1a549950f91e"
      },
      "execution_count": 6,
      "outputs": [
        {
          "output_type": "execute_result",
          "data": {
            "text/plain": [
              "\" Here are the main differences between NumPy arrays and Python lists:\\n- Homogeneous vs Heterogeneous: NumPy arrays are homogeneous (all elements are of the same data type), while Python lists are heterogeneous (can hold elements of different data types).\\n- Memory Efficiency: NumPy arrays are more memory-efficient than Python lists, especially for large datasets.\\n- Performance: NumPy arrays are faster than Python lists for numerical computations due to vectorized operations.\\n- Operations: NumPy arrays support element-wise operations and matrix operations, while Python lists do not.\\n- Dimensionality: NumPy arrays can be multi-dimensional, while Python lists can be nested but don't support the same level of dimensionality as NumPy arrays.\\nNumPy arrays are ideal for numerical computations, while Python lists are better suited for general-purpose programming.\""
            ],
            "application/vnd.google.colaboratory.intrinsic+json": {
              "type": "string"
            }
          },
          "metadata": {},
          "execution_count": 6
        }
      ]
    },
    {
      "cell_type": "code",
      "source": [
        "#7. What is a heatmap, and when should it be used?\n",
        "\"\"\" A heatmap is a graphical representation of data where values are displayed as colors. It's a 2D representation of data that uses colors to illustrate the magnitude of the values.\n",
        "Heatmaps are useful for:\n",
        "- Visualizing correlations: Showing relationships between two variables.\n",
        "- Identifying patterns: Spotting trends, clusters, or outliers in data.\n",
        "- Displaying density: Illustrating the concentration of data points.\n",
        "Use heatmaps when:\n",
        "- You want to visualize complex data relationships.\n",
        "- You need to identify patterns or correlations.\n",
        "- You want to display data density or distribution.\n",
        "Heatmaps are commonly used in data analysis, finance, and scientific research.\"\"\""
      ],
      "metadata": {
        "id": "NrShrkaSiBBp",
        "colab": {
          "base_uri": "https://localhost:8080/",
          "height": 105
        },
        "outputId": "32f0724a-1402-4371-dcd2-2e6c40e69fe1"
      },
      "execution_count": 7,
      "outputs": [
        {
          "output_type": "execute_result",
          "data": {
            "text/plain": [
              "\" A heatmap is a graphical representation of data where values are displayed as colors. It's a 2D representation of data that uses colors to illustrate the magnitude of the values.\\nHeatmaps are useful for:\\n- Visualizing correlations: Showing relationships between two variables.\\n- Identifying patterns: Spotting trends, clusters, or outliers in data.\\n- Displaying density: Illustrating the concentration of data points.\\nUse heatmaps when:\\n- You want to visualize complex data relationships.\\n- You need to identify patterns or correlations.\\n- You want to display data density or distribution.\\nHeatmaps are commonly used in data analysis, finance, and scientific research.\""
            ],
            "application/vnd.google.colaboratory.intrinsic+json": {
              "type": "string"
            }
          },
          "metadata": {},
          "execution_count": 7
        }
      ]
    },
    {
      "cell_type": "code",
      "source": [
        "#8. What does the term “vectorized operation” mean in NumPy?\n",
        "\"\"\" In NumPy, \"vectorized operation\" refers to performing operations on entire arrays at once, rather than iterating over individual elements. This approach:\n",
        "- Speeds up computations: By applying operations to entire arrays, NumPy can utilize optimized C code and take advantage of CPU capabilities.\n",
        "- Improves code readability: Vectorized operations often result in concise and expressive code.\n",
        "Example: Instead of using a loop to add two arrays, NumPy allows you to simply use the + operator: result = array1 + array2.\n",
        "Vectorized operations are a key feature of NumPy that makes it efficient for numerical computations.\"\"\""
      ],
      "metadata": {
        "id": "vkcpFvEYio0a",
        "colab": {
          "base_uri": "https://localhost:8080/",
          "height": 105
        },
        "outputId": "a55376af-57c3-4f5a-e25c-d27d056585ba"
      },
      "execution_count": 8,
      "outputs": [
        {
          "output_type": "execute_result",
          "data": {
            "text/plain": [
              "' In NumPy, \"vectorized operation\" refers to performing operations on entire arrays at once, rather than iterating over individual elements. This approach:\\n- Speeds up computations: By applying operations to entire arrays, NumPy can utilize optimized C code and take advantage of CPU capabilities.\\n- Improves code readability: Vectorized operations often result in concise and expressive code.\\nExample: Instead of using a loop to add two arrays, NumPy allows you to simply use the + operator: result = array1 + array2.\\nVectorized operations are a key feature of NumPy that makes it efficient for numerical computations.'"
            ],
            "application/vnd.google.colaboratory.intrinsic+json": {
              "type": "string"
            }
          },
          "metadata": {},
          "execution_count": 8
        }
      ]
    },
    {
      "cell_type": "code",
      "source": [
        "#9.How does Matplotlib differ from Plotly?\n",
        "\"\"\" Matplotlib and Plotly are both popular data visualization libraries in Python, but they differ in their approach and use cases:\n",
        "- Static vs Interactive: Matplotlib creates static plots, while Plotly creates interactive plots that can be zoomed, hovered, and more.\n",
        "- Customization: Matplotlib offers fine-grained control over plot customization, while Plotly provides a more streamlined and automated approach.\n",
        "- Output: Matplotlib can produce high-quality static images, while Plotly can generate interactive web-based visualizations.\n",
        "Choose Matplotlib for:\n",
        "- Static plots\n",
        "- Fine-grained control\n",
        "- Publication-quality images\n",
        "Choose Plotly for:\n",
        "- Interactive visualizations\n",
        "- Web-based dashboards\n",
        "- Exploratory data analysis\n",
        "Both libraries have their strengths, and the choice depends on your specific needs.\"\"\""
      ],
      "metadata": {
        "id": "xjU0a-yMio3P",
        "colab": {
          "base_uri": "https://localhost:8080/",
          "height": 122
        },
        "outputId": "d9ac9357-a78a-4b60-cc84-7f9c97582278"
      },
      "execution_count": 9,
      "outputs": [
        {
          "output_type": "execute_result",
          "data": {
            "text/plain": [
              "' Matplotlib and Plotly are both popular data visualization libraries in Python, but they differ in their approach and use cases:\\n- Static vs Interactive: Matplotlib creates static plots, while Plotly creates interactive plots that can be zoomed, hovered, and more.\\n- Customization: Matplotlib offers fine-grained control over plot customization, while Plotly provides a more streamlined and automated approach.\\n- Output: Matplotlib can produce high-quality static images, while Plotly can generate interactive web-based visualizations.\\nChoose Matplotlib for:\\n- Static plots\\n- Fine-grained control\\n- Publication-quality images\\nChoose Plotly for:\\n- Interactive visualizations\\n- Web-based dashboards\\n- Exploratory data analysis\\nBoth libraries have their strengths, and the choice depends on your specific needs.'"
            ],
            "application/vnd.google.colaboratory.intrinsic+json": {
              "type": "string"
            }
          },
          "metadata": {},
          "execution_count": 9
        }
      ]
    },
    {
      "cell_type": "code",
      "source": [
        "#10. What is the significance of hierarchical indexing in Pandas?\n",
        "\"\"\" Hierarchical indexing (also known as MultiIndex) in Pandas allows you to:\n",
        "- Work with higher-dimensional data: By creating multiple levels of indexing, you can represent complex data structures in a 2D DataFrame.\n",
        "- Select and manipulate data: You can use hierarchical indexing to select specific subsets of data based on multiple criteria.\n",
        "- Perform groupby operations: Hierarchical indexing makes it easier to perform groupby operations and aggregate data.\n",
        "Hierarchical indexing enables more efficient and intuitive data analysis, especially when working with complex or multidimensional data.\"\"\""
      ],
      "metadata": {
        "id": "HjM9Z1G9io6M",
        "colab": {
          "base_uri": "https://localhost:8080/",
          "height": 87
        },
        "outputId": "64fc577c-22e3-49ad-a6af-b14af2a72328"
      },
      "execution_count": 10,
      "outputs": [
        {
          "output_type": "execute_result",
          "data": {
            "text/plain": [
              "' Hierarchical indexing (also known as MultiIndex) in Pandas allows you to:\\n- Work with higher-dimensional data: By creating multiple levels of indexing, you can represent complex data structures in a 2D DataFrame.\\n- Select and manipulate data: You can use hierarchical indexing to select specific subsets of data based on multiple criteria.\\n- Perform groupby operations: Hierarchical indexing makes it easier to perform groupby operations and aggregate data.\\nHierarchical indexing enables more efficient and intuitive data analysis, especially when working with complex or multidimensional data.'"
            ],
            "application/vnd.google.colaboratory.intrinsic+json": {
              "type": "string"
            }
          },
          "metadata": {},
          "execution_count": 10
        }
      ]
    },
    {
      "cell_type": "code",
      "source": [
        "#11. What is the role of Seaborn’s pairplot() function?\n",
        "\"\"\" Seaborn's pairplot() function creates a matrix of pairwise scatter plots, allowing you to:\n",
        "- Visualize relationships: Between multiple variables in a dataset.\n",
        "- Identify patterns: Such as correlations, clusters, or outliers.\n",
        "- Explore data: Quickly understand the relationships between different variables.\n",
        "pairplot() is useful for:\n",
        "- Exploratory data analysis\n",
        "- Identifying correlations\n",
        "- Visualizing multivariate data\n",
        "It's a powerful tool for gaining insights into complex datasets.\"\"\""
      ],
      "metadata": {
        "id": "_j57-fKNio9B",
        "colab": {
          "base_uri": "https://localhost:8080/",
          "height": 87
        },
        "outputId": "ccac665f-6738-459a-c156-6938c2d4781d"
      },
      "execution_count": 11,
      "outputs": [
        {
          "output_type": "execute_result",
          "data": {
            "text/plain": [
              "\" Seaborn's pairplot() function creates a matrix of pairwise scatter plots, allowing you to:\\n- Visualize relationships: Between multiple variables in a dataset.\\n- Identify patterns: Such as correlations, clusters, or outliers.\\n- Explore data: Quickly understand the relationships between different variables.\\npairplot() is useful for:\\n- Exploratory data analysis\\n- Identifying correlations\\n- Visualizing multivariate data\\nIt's a powerful tool for gaining insights into complex datasets.\""
            ],
            "application/vnd.google.colaboratory.intrinsic+json": {
              "type": "string"
            }
          },
          "metadata": {},
          "execution_count": 11
        }
      ]
    },
    {
      "cell_type": "code",
      "source": [
        "#12. What is the purpose of the describe() function in Pandas?\n",
        "\"\"\"\" The describe() function in Pandas generates descriptive statistics for a DataFrame or Series, providing a summary of the central tendency,\n",
        " dispersion, and shape of the data.\n",
        "It calculates metrics such as:\n",
        "- Count\n",
        "- Mean\n",
        "- Standard Deviation\n",
        "- Minimum\n",
        "- 25th Percentile (Q1)\n",
        "- 50th Percentile (Median)\n",
        "- 75th Percentile (Q3)\n",
        "- Maximum\n",
        "The describe() function is useful for:\n",
        "- Understanding data distribution\n",
        "- Identifying outliers\n",
        "- Getting a quick overview of the data\n",
        "\n",
        "It's a convenient way to get a summary of your data's statistics.\"\"\""
      ],
      "metadata": {
        "id": "nFqaVAV9io_0",
        "colab": {
          "base_uri": "https://localhost:8080/",
          "height": 87
        },
        "outputId": "837da42b-d7f4-42b8-bc7e-db14e62a8186"
      },
      "execution_count": 12,
      "outputs": [
        {
          "output_type": "execute_result",
          "data": {
            "text/plain": [
              "'\" The describe() function in Pandas generates descriptive statistics for a DataFrame or Series, providing a summary of the central tendency,\\n dispersion, and shape of the data.\\nIt calculates metrics such as:\\n- Count\\n- Mean\\n- Standard Deviation\\n- Minimum\\n- 25th Percentile (Q1)\\n- 50th Percentile (Median)\\n- 75th Percentile (Q3)\\n- Maximum\\nThe describe() function is useful for:\\n- Understanding data distribution\\n- Identifying outliers\\n- Getting a quick overview of the data\\n\\nIt\\'s a convenient way to get a summary of your data\\'s statistics.'"
            ],
            "application/vnd.google.colaboratory.intrinsic+json": {
              "type": "string"
            }
          },
          "metadata": {},
          "execution_count": 12
        }
      ]
    },
    {
      "cell_type": "code",
      "source": [
        "#13. Why is handling missing data important in Pandas?\n",
        "\"\"\" Handling missing data is important in Pandas because:\n",
        "- Accurate analysis: Missing data can lead to biased or incorrect results if not handled properly.\n",
        "- Data quality: Identifying and addressing missing data helps ensure data quality and reliability.\n",
        "- Model performance: Many machine learning models can't handle missing data, so it's crucial to address them before modeling.\n",
        "Pandas provides various methods to handle missing data, such as:\n",
        "- isnull() and notnull() for detection\n",
        "- dropna() for removal\n",
        "- fillna() for replacement\n",
        "Properly handling missing data ensures more accurate and reliable analysis.\"\"\""
      ],
      "metadata": {
        "id": "4uXEUDgqipCt",
        "colab": {
          "base_uri": "https://localhost:8080/",
          "height": 87
        },
        "outputId": "6327f110-71a9-4306-a24a-5620a820aa95"
      },
      "execution_count": 13,
      "outputs": [
        {
          "output_type": "execute_result",
          "data": {
            "text/plain": [
              "\" Handling missing data is important in Pandas because:\\n- Accurate analysis: Missing data can lead to biased or incorrect results if not handled properly.\\n- Data quality: Identifying and addressing missing data helps ensure data quality and reliability.\\n- Model performance: Many machine learning models can't handle missing data, so it's crucial to address them before modeling.\\nPandas provides various methods to handle missing data, such as:\\n- isnull() and notnull() for detection\\n- dropna() for removal\\n- fillna() for replacement\\nProperly handling missing data ensures more accurate and reliable analysis.\""
            ],
            "application/vnd.google.colaboratory.intrinsic+json": {
              "type": "string"
            }
          },
          "metadata": {},
          "execution_count": 13
        }
      ]
    },
    {
      "cell_type": "code",
      "source": [
        "#14. What are the benefits of using Plotly for data visualization?\n",
        "\"\"\" The benefits of using Plotly for data visualization include:\n",
        "- Interactive visualizations: Plotly creates interactive plots that allow users to hover, zoom, and pan.\n",
        "- Web-based visualizations: Plotly visualizations can be easily shared and embedded in web applications.\n",
        "- Wide range of chart types: Plotly supports a variety of chart types, including line plots, scatter plots, bar charts, and more.\n",
        "- Customization options: Plotly offers various options for customizing the appearance and behavior of visualizations.\n",
        "- Integration with other tools: Plotly integrates well with popular data science tools like Pandas, NumPy, and Matplotlib.\n",
        "Plotly is ideal for creating interactive, web-based visualizations that enable exploration and insight into complex data.\"\"\""
      ],
      "metadata": {
        "id": "_jqZj8ZdipFW",
        "colab": {
          "base_uri": "https://localhost:8080/",
          "height": 105
        },
        "outputId": "07a6ba63-1c15-407a-f7c1-c5aa82862d78"
      },
      "execution_count": 14,
      "outputs": [
        {
          "output_type": "execute_result",
          "data": {
            "text/plain": [
              "' The benefits of using Plotly for data visualization include:\\n- Interactive visualizations: Plotly creates interactive plots that allow users to hover, zoom, and pan.\\n- Web-based visualizations: Plotly visualizations can be easily shared and embedded in web applications.\\n- Wide range of chart types: Plotly supports a variety of chart types, including line plots, scatter plots, bar charts, and more.\\n- Customization options: Plotly offers various options for customizing the appearance and behavior of visualizations.\\n- Integration with other tools: Plotly integrates well with popular data science tools like Pandas, NumPy, and Matplotlib.\\nPlotly is ideal for creating interactive, web-based visualizations that enable exploration and insight into complex data.'"
            ],
            "application/vnd.google.colaboratory.intrinsic+json": {
              "type": "string"
            }
          },
          "metadata": {},
          "execution_count": 14
        }
      ]
    },
    {
      "cell_type": "code",
      "source": [
        "#15. How does NumPy handle multidimensional arrays?\n",
        "\"\"\" NumPy handles multidimensional arrays through:\n",
        "1. Array creation: Creating arrays with multiple dimensions using functions like numpy.array() or numpy.zeros().\n",
        "2. Indexing and slicing: Accessing and manipulating specific elements or subsets of multidimensional arrays using indexing and slicing.\n",
        "3. Shape and dimensions: Managing array shape and dimensions using attributes like shape and ndim.\n",
        "4. Reshaping and transposing: Changing array shape and dimensions using functions like reshape() and transpose().\n",
        "These features enable efficient and flexible manipulation of multidimensional arrays in NumPy.\"\"\""
      ],
      "metadata": {
        "id": "Bzg4fnT0ipIf",
        "colab": {
          "base_uri": "https://localhost:8080/",
          "height": 87
        },
        "outputId": "e88fdc11-d613-4c52-93d0-7c8ad3a8a7c7"
      },
      "execution_count": 15,
      "outputs": [
        {
          "output_type": "execute_result",
          "data": {
            "text/plain": [
              "' NumPy handles multidimensional arrays through:\\n1. Array creation: Creating arrays with multiple dimensions using functions like numpy.array() or numpy.zeros().\\n2. Indexing and slicing: Accessing and manipulating specific elements or subsets of multidimensional arrays using indexing and slicing.\\n3. Shape and dimensions: Managing array shape and dimensions using attributes like shape and ndim.\\n4. Reshaping and transposing: Changing array shape and dimensions using functions like reshape() and transpose().\\nThese features enable efficient and flexible manipulation of multidimensional arrays in NumPy.'"
            ],
            "application/vnd.google.colaboratory.intrinsic+json": {
              "type": "string"
            }
          },
          "metadata": {},
          "execution_count": 15
        }
      ]
    },
    {
      "cell_type": "code",
      "source": [
        "#16. What is the role of Bokeh in data visualization?\n",
        "\"\"\" Bokeh is a Python library for creating interactive visualizations in web browsers. Its role in data visualization includes:\n",
        "\n",
        "1. Interactive Plots: Bokeh allows users to create plots that can be zoomed, panned, and hovered over for additional information.\n",
        "2. Web-Based Dashboards: Bokeh is ideal for building web-based dashboards and applications that require interactive visualizations.\n",
        "3. Customization: Bokeh offers a high degree of customization for creating visually appealing and informative plots.\n",
        "4. Streaming Data: Bokeh supports real-time data streaming, making it suitable for visualizing live data.\n",
        "\n",
        "Bokeh is particularly useful for creating interactive, web-based visualizations that enable users to explore data dynamically.\"\"\""
      ],
      "metadata": {
        "id": "qZGeG3h4ipLy",
        "colab": {
          "base_uri": "https://localhost:8080/",
          "height": 105
        },
        "outputId": "6a58843a-7649-4e08-c3d1-8b1e25e7fa5a"
      },
      "execution_count": 16,
      "outputs": [
        {
          "output_type": "execute_result",
          "data": {
            "text/plain": [
              "' Bokeh is a Python library for creating interactive visualizations in web browsers. Its role in data visualization includes:\\n\\n1. Interactive Plots: Bokeh allows users to create plots that can be zoomed, panned, and hovered over for additional information.\\n2. Web-Based Dashboards: Bokeh is ideal for building web-based dashboards and applications that require interactive visualizations.\\n3. Customization: Bokeh offers a high degree of customization for creating visually appealing and informative plots.\\n4. Streaming Data: Bokeh supports real-time data streaming, making it suitable for visualizing live data.\\n\\nBokeh is particularly useful for creating interactive, web-based visualizations that enable users to explore data dynamically.'"
            ],
            "application/vnd.google.colaboratory.intrinsic+json": {
              "type": "string"
            }
          },
          "metadata": {},
          "execution_count": 16
        }
      ]
    },
    {
      "cell_type": "code",
      "source": [
        "#17.Explain the difference between apply() and map() in Pandas.\n",
        "\"\"\" In Pandas, apply() and map() are both used to transform data, but they differ in their application:\n",
        "- apply():\n",
        "    - Applies a function to each row or column of a DataFrame.\n",
        "    - Can handle complex functions and operations.\n",
        "    - More flexible, but can be slower.\n",
        "- map():\n",
        "    - Applies a function element-wise to a Series.\n",
        "    - Typically used for simple transformations, like replacing values.\n",
        "    - Faster for element-wise operations.\n",
        "Choose apply() for complex operations on rows or columns, and map() for simple element-wise transformations.\"\"\""
      ],
      "metadata": {
        "id": "uSfpz-MSjZ_m",
        "colab": {
          "base_uri": "https://localhost:8080/",
          "height": 87
        },
        "outputId": "f3590b93-f891-4e96-c6c2-16c9a34c050b"
      },
      "execution_count": 17,
      "outputs": [
        {
          "output_type": "execute_result",
          "data": {
            "text/plain": [
              "' In Pandas, apply() and map() are both used to transform data, but they differ in their application:\\n- apply():\\n    - Applies a function to each row or column of a DataFrame.\\n    - Can handle complex functions and operations.\\n    - More flexible, but can be slower.\\n- map():\\n    - Applies a function element-wise to a Series.\\n    - Typically used for simple transformations, like replacing values.\\n    - Faster for element-wise operations.\\nChoose apply() for complex operations on rows or columns, and map() for simple element-wise transformations.'"
            ],
            "application/vnd.google.colaboratory.intrinsic+json": {
              "type": "string"
            }
          },
          "metadata": {},
          "execution_count": 17
        }
      ]
    },
    {
      "cell_type": "code",
      "source": [
        "#18. What are some advanced features of NumPy?\n",
        "\"\"\" Some advanced features of NumPy include:\n",
        "\n",
        "1. Broadcasting: NumPy's ability to perform operations on arrays with different shapes and sizes.\n",
        "2. Vectorized Operations: Performing operations on entire arrays at once, making computations faster and more efficient.\n",
        "3. Linear Algebra Functions: NumPy provides an extensive set of linear algebra functions, such as matrix multiplication, eigenvalue decomposition, and singular value decomposition.\n",
        "4. Random Number Generation: NumPy offers a range of random number generators, including uniform, normal, and binomial distributions.\n",
        "5. Advanced Indexing: NumPy allows for advanced indexing techniques, such as boolean indexing, fancy indexing, and label-based indexing.\n",
        "\n",
        "These features make NumPy a powerful tool for numerical computing and data analysis.\"\"\""
      ],
      "metadata": {
        "id": "qFuxDIg4jaCW",
        "colab": {
          "base_uri": "https://localhost:8080/",
          "height": 122
        },
        "outputId": "29415deb-7f2d-4940-b735-57afc64cdfb8"
      },
      "execution_count": 18,
      "outputs": [
        {
          "output_type": "execute_result",
          "data": {
            "text/plain": [
              "\" Some advanced features of NumPy include:\\n\\n1. Broadcasting: NumPy's ability to perform operations on arrays with different shapes and sizes.\\n2. Vectorized Operations: Performing operations on entire arrays at once, making computations faster and more efficient.\\n3. Linear Algebra Functions: NumPy provides an extensive set of linear algebra functions, such as matrix multiplication, eigenvalue decomposition, and singular value decomposition.\\n4. Random Number Generation: NumPy offers a range of random number generators, including uniform, normal, and binomial distributions.\\n5. Advanced Indexing: NumPy allows for advanced indexing techniques, such as boolean indexing, fancy indexing, and label-based indexing.\\n\\nThese features make NumPy a powerful tool for numerical computing and data analysis.\""
            ],
            "application/vnd.google.colaboratory.intrinsic+json": {
              "type": "string"
            }
          },
          "metadata": {},
          "execution_count": 18
        }
      ]
    },
    {
      "cell_type": "code",
      "source": [
        "#19. How does Pandas simplify time series analysis?\n",
        "\"\"\" Pandas simplifies time series analysis through:\n",
        "1. DateTimeIndex: Efficiently handling date and time data with built-in functionality.\n",
        "2. Resampling: Easily resampling time series data to different frequencies.\n",
        "3. Shifting and Lagging: Simple methods for shifting and lagging time series data.\n",
        "4. Rolling and Expanding: Calculating rolling and expanding statistics, such as moving averages.\n",
        "5. Time Zone Handling: Support for time zone-aware data.\n",
        "These features make it easier to manipulate, analyze, and visualize time series data in Pandas.\"\"\""
      ],
      "metadata": {
        "id": "fCPnYEcAjaE7",
        "colab": {
          "base_uri": "https://localhost:8080/",
          "height": 87
        },
        "outputId": "35178a21-c316-42d1-ad74-363ca7c35097"
      },
      "execution_count": 19,
      "outputs": [
        {
          "output_type": "execute_result",
          "data": {
            "text/plain": [
              "' Pandas simplifies time series analysis through:\\n1. DateTimeIndex: Efficiently handling date and time data with built-in functionality.\\n2. Resampling: Easily resampling time series data to different frequencies.\\n3. Shifting and Lagging: Simple methods for shifting and lagging time series data.\\n4. Rolling and Expanding: Calculating rolling and expanding statistics, such as moving averages.\\n5. Time Zone Handling: Support for time zone-aware data.\\nThese features make it easier to manipulate, analyze, and visualize time series data in Pandas.'"
            ],
            "application/vnd.google.colaboratory.intrinsic+json": {
              "type": "string"
            }
          },
          "metadata": {},
          "execution_count": 19
        }
      ]
    },
    {
      "cell_type": "code",
      "source": [
        "#20. What is the role of a pivot table in Pandas?\n",
        "\"\"\" In Pandas, a pivot table is used to:\n",
        "1. Summarize data: Aggregate and summarize data by grouping it based on specific columns.\n",
        "2. Transform data: Rotate data from a state of rows to columns or vice versa.\n",
        "3. Analyze relationships: Examine relationships between different variables in a dataset.\"\"\""
      ],
      "metadata": {
        "id": "sAxPI7mMjaIe",
        "colab": {
          "base_uri": "https://localhost:8080/",
          "height": 53
        },
        "outputId": "0984472f-d101-4547-c6df-d3e8159d4378"
      },
      "execution_count": 20,
      "outputs": [
        {
          "output_type": "execute_result",
          "data": {
            "text/plain": [
              "' In Pandas, a pivot table is used to:\\n1. Summarize data: Aggregate and summarize data by grouping it based on specific columns.\\n2. Transform data: Rotate data from a state of rows to columns or vice versa.\\n3. Analyze relationships: Examine relationships between different variables in a dataset.'"
            ],
            "application/vnd.google.colaboratory.intrinsic+json": {
              "type": "string"
            }
          },
          "metadata": {},
          "execution_count": 20
        }
      ]
    },
    {
      "cell_type": "code",
      "source": [
        "#21. Why is NumPy’s array slicing faster than Python’s list slicing?\n",
        "\"\"\" NumPy's array slicing is faster than Python's list slicing because:\n",
        "1. Memory Layout: NumPy arrays store data in a contiguous block of memory, allowing for efficient access and manipulation.\n",
        "2. Vectorized Operations: NumPy's slicing operations are vectorized, meaning they operate on the entire array at once, reducing overhead.\n",
        "3. Native Code: NumPy's slicing operations are implemented in C, which is faster than Python's list slicing.\n",
        "These factors combined make NumPy's array slicing significantly faster than Python's list slicing for large datasets and numerical computations.\"\"\""
      ],
      "metadata": {
        "id": "eIj74ZpnjvPS",
        "colab": {
          "base_uri": "https://localhost:8080/",
          "height": 87
        },
        "outputId": "7e198f70-7cc2-4246-fa16-8b9d1d3b49a4"
      },
      "execution_count": 21,
      "outputs": [
        {
          "output_type": "execute_result",
          "data": {
            "text/plain": [
              "\" NumPy's array slicing is faster than Python's list slicing because:\\n1. Memory Layout: NumPy arrays store data in a contiguous block of memory, allowing for efficient access and manipulation.\\n2. Vectorized Operations: NumPy's slicing operations are vectorized, meaning they operate on the entire array at once, reducing overhead.\\n3. Native Code: NumPy's slicing operations are implemented in C, which is faster than Python's list slicing.\\nThese factors combined make NumPy's array slicing significantly faster than Python's list slicing for large datasets and numerical computations.\""
            ],
            "application/vnd.google.colaboratory.intrinsic+json": {
              "type": "string"
            }
          },
          "metadata": {},
          "execution_count": 21
        }
      ]
    },
    {
      "cell_type": "code",
      "source": [
        "#22. What are some common use cases for Seaborn?\n",
        "\"\"\" Seaborn is a popular data visualization library in Python, and some common use cases include:\n",
        "1. Exploratory Data Analysis (EDA): Seaborn provides a high-level interface for creating informative and attractive statistical graphics.\n",
        "2. Visualizing Distributions: Seaborn offers various ways to visualize distributions, such as histograms, boxplots, and violin plots.\n",
        "3. Plotting Categorical Data: Seaborn provides tools for creating bar plots, count plots, and boxplots for categorical data.\n",
        "4. Creating Heatmaps: Seaborn's heatmap function allows for easy visualization of matrix data.\n",
        "5. Customizing Visualizations: Seaborn offers a range of customization options for creating visually appealing plots.\n",
        "Seaborn is particularly useful for creating informative and attractive statistical graphics.\"\"\""
      ],
      "metadata": {
        "id": "0TyQlaQmjvcE",
        "colab": {
          "base_uri": "https://localhost:8080/",
          "height": 122
        },
        "outputId": "3f90cd1c-21b0-411c-9c6b-7333252a64a3"
      },
      "execution_count": 22,
      "outputs": [
        {
          "output_type": "execute_result",
          "data": {
            "text/plain": [
              "\" Seaborn is a popular data visualization library in Python, and some common use cases include:\\n1. Exploratory Data Analysis (EDA): Seaborn provides a high-level interface for creating informative and attractive statistical graphics.\\n2. Visualizing Distributions: Seaborn offers various ways to visualize distributions, such as histograms, boxplots, and violin plots.\\n3. Plotting Categorical Data: Seaborn provides tools for creating bar plots, count plots, and boxplots for categorical data.\\n4. Creating Heatmaps: Seaborn's heatmap function allows for easy visualization of matrix data.\\n5. Customizing Visualizations: Seaborn offers a range of customization options for creating visually appealing plots.\\nSeaborn is particularly useful for creating informative and attractive statistical graphics.\""
            ],
            "application/vnd.google.colaboratory.intrinsic+json": {
              "type": "string"
            }
          },
          "metadata": {},
          "execution_count": 22
        }
      ]
    },
    {
      "cell_type": "markdown",
      "source": [
        "#Practical Questions:"
      ],
      "metadata": {
        "id": "ZITB8U5Sj9oN"
      }
    },
    {
      "cell_type": "code",
      "source": [
        "#1. How do you create a 2D NumPy array and calculate the sum of each row?\n",
        "import numpy as np\n",
        "# Create a 2D NumPy array\n",
        "arr = np.array([[1, 2, 3], [4, 5, 6], [7, 8, 9]])\n",
        "print(arr)\n",
        "# Calculate the sum of each row\n",
        "row_sums = arr.sum(axis=1)\n",
        "print(row_sums)\n"
      ],
      "metadata": {
        "id": "SmOlXQwQkCv5",
        "colab": {
          "base_uri": "https://localhost:8080/"
        },
        "outputId": "f890942a-a5d5-4ace-c805-aa625c46c9b8"
      },
      "execution_count": 23,
      "outputs": [
        {
          "output_type": "stream",
          "name": "stdout",
          "text": [
            "[[1 2 3]\n",
            " [4 5 6]\n",
            " [7 8 9]]\n",
            "[ 6 15 24]\n"
          ]
        }
      ]
    },
    {
      "cell_type": "code",
      "source": [
        "#2. Write a Pandas script to find the mean of a specific column in a DataFrame.\n",
        "\n",
        "import pandas as pd\n",
        "# Create a sample DataFrame\n",
        "data = {'Name': ['Alice', 'Bob', 'Charlie'],\n",
        "        'Age': [25, 30, 35],\n",
        "        'Score': [90, 85, 95]}\n",
        "df = pd.DataFrame(data)\n",
        "# Calculate the mean of the 'Score' column\n",
        "mean_score = df['Score'].mean()\n",
        "print(f\"The mean score is: {mean_score}\")"
      ],
      "metadata": {
        "id": "YGAho95LkCyn",
        "colab": {
          "base_uri": "https://localhost:8080/"
        },
        "outputId": "33667f8a-fd49-42e1-b2cb-0dcd37772794"
      },
      "execution_count": 24,
      "outputs": [
        {
          "output_type": "stream",
          "name": "stdout",
          "text": [
            "The mean score is: 90.0\n"
          ]
        }
      ]
    },
    {
      "cell_type": "code",
      "source": [
        "#3.  Create a scatter plot using Matplotlib.\n",
        "import matplotlib.pyplot as plt\n",
        "import numpy as np\n",
        "# Generate some random data\n",
        "np.random.seed(0)\n",
        "x = np.random.rand(50)\n",
        "y = np.random.rand(50)\n",
        "# Create the scatter plot\n",
        "plt.scatter(x, y, color='blue', alpha=0.7, label='Random Data')\n",
        "# Add title and labels\n",
        "plt.title('Scatter Plot Example')\n",
        "plt.xlabel('X-axis')\n",
        "plt.ylabel('Y-axis')\n",
        "plt.legend()\n",
        "# Display the plot\n",
        "plt.show()"
      ],
      "metadata": {
        "id": "WYSK5diakC1v",
        "colab": {
          "base_uri": "https://localhost:8080/",
          "height": 472
        },
        "outputId": "4082b761-154b-4afd-ef89-1be0ac5403b8"
      },
      "execution_count": 25,
      "outputs": [
        {
          "output_type": "display_data",
          "data": {
            "text/plain": [
              "<Figure size 640x480 with 1 Axes>"
            ],
            "image/png": "[encoded data removed]"
          },
          "metadata": {}
        }
      ]
    },
    {
      "cell_type": "code",
      "source": [
        "#4. How do you calculate the correlation matrix using Seaborn and visualize it with a heatmap?\n",
        "import seaborn as sns\n",
        "import matplotlib.pyplot as plt\n",
        "import pandas as pd\n",
        "import numpy as np\n",
        "# Create a sample DataFrame\n",
        "np.random.seed(0)\n",
        "data = np.random.rand(100, 5)\n",
        "df = pd.DataFrame(data, columns=['A', 'B', 'C', 'D', 'E'])\n",
        "# Calculate the correlation matrix\n",
        "corr_matrix = df.corr()\n",
        "\n",
        "#Create a heatmap\n",
        "plt.figure(figsize=(8, 6))\n",
        "sns.heatmap(corr_matrix, annot=True, cmap='coolwarm', square=True)\n",
        "plt.title('Correlation Matrix')\n",
        "plt.show()\n"
      ],
      "metadata": {
        "id": "9PWvbNi3kC5P",
        "colab": {
          "base_uri": "https://localhost:8080/",
          "height": 545
        },
        "outputId": "5793090d-f95c-48e3-a8c1-7f8b45d294c8"
      },
      "execution_count": 26,
      "outputs": [
        {
          "output_type": "display_data",
          "data": {
            "text/plain": [
              "<Figure size 800x600 with 2 Axes>"
            ],
            "image/png": "[encoded data removed]"
          },
          "metadata": {}
        }
      ]
    },
    {
      "cell_type": "code",
      "source": [
        "#5.  Generate a bar plot using Plotly.\n",
        "import plotly.express as px\n",
        "import pandas as pd\n",
        "# Create a sample DataFrame\n",
        "data = {'Category': ['A', 'B', 'C', 'D'],\n",
        "        'Value': [10, 15, 7, 12]}\n",
        "df = pd.DataFrame(data)\n",
        "# Create a bar plot\n",
        "fig = px.bar(df, x='Category', y='Value', title='Bar Plot Example')\n",
        "fig.show()"
      ],
      "metadata": {
        "id": "96Xp1ovckC8t",
        "colab": {
          "base_uri": "https://localhost:8080/",
          "height": 542
        },
        "outputId": "bfc802bd-32f4-42bd-9fc0-4b123710b81d"
      },
      "execution_count": 27,
      "outputs": [
        {
          "output_type": "display_data",
          "data": {
            "text/html": [
              "<html>\n",
              "<head><meta charset=\"utf-8\" /></head>\n",
              "<body>\n",
              "    <div>            <script src=\"https://cdnjs.cloudflare.com/ajax/libs/mathjax/2.7.5/MathJax.js?config=TeX-AMS-MML_SVG\"></script><script type=\"text/javascript\">if (window.MathJax && window.MathJax.Hub && window.MathJax.Hub.Config) {window.MathJax.Hub.Config({SVG: {font: \"STIX-Web\"}});}</script>                <script type=\"text/javascript\">window.PlotlyConfig = {MathJaxConfig: 'local'};</script>\n",
              "        <script charset=\"utf-8\" src=\"https://cdn.plot.ly/plotly-2.35.2.min.js\"></script>                <div id=\"b14ed71e-82b6-4578-ba32-3eaac12a631c\" class=\"plotly-graph-div\" style=\"height:525px; width:100%;\"></div>            <script type=\"text/javascript\">                                    window.PLOTLYENV=window.PLOTLYENV || {};                                    if (document.getElementById(\"b14ed71e-82b6-4578-ba32-3eaac12a631c\")) {                    Plotly.newPlot(                        \"b14ed71e-82b6-4578-ba32-3eaac12a631c\",                        [{\"alignmentgroup\":\"True\",\"hovertemplate\":\"Category=%{x}\\u003cbr\\u003eValue=%{y}\\u003cextra\\u003e\\u003c\\u002fextra\\u003e\",\"legendgroup\":\"\",\"marker\":{\"color\":\"#636efa\",\"pattern\":{\"shape\":\"\"}},\"name\":\"\",\"offsetgroup\":\"\",\"orientation\":\"v\",\"showlegend\":false,\"textposition\":\"auto\",\"x\":[\"A\",\"B\",\"C\",\"D\"],\"xaxis\":\"x\",\"y\":[10,15,7,12],\"yaxis\":\"y\",\"type\":\"bar\"}],                        {\"template\":{\"data\":{\"histogram2dcontour\":[{\"type\":\"histogram2dcontour\",\"colorbar\":{\"outlinewidth\":0,\"ticks\":\"\"},\"colorscale\":[[0.0,\"#0d0887\"],[0.1111111111111111,\"#46039f\"],[0.2222222222222222,\"#7201a8\"],[0.3333333333333333,\"#9c179e\"],[0.4444444444444444,\"#bd3786\"],[0.5555555555555556,\"#d8576b\"],[0.6666666666666666,\"#ed7953\"],[0.7777777777777778,\"#fb9f3a\"],[0.8888888888888888,\"#fdca26\"],[1.0,\"#f0f921\"]]}],\"choropleth\":[{\"type\":\"choropleth\",\"colorbar\":{\"outlinewidth\":0,\"ticks\":\"\"}}],\"histogram2d\":[{\"type\":\"histogram2d\",\"colorbar\":{\"outlinewidth\":0,\"ticks\":\"\"},\"colorscale\":[[0.0,\"#0d0887\"],[0.1111111111111111,\"#46039f\"],[0.2222222222222222,\"#7201a8\"],[0.3333333333333333,\"#9c179e\"],[0.4444444444444444,\"#bd3786\"],[0.5555555555555556,\"#d8576b\"],[0.6666666666666666,\"#ed7953\"],[0.7777777777777778,\"#fb9f3a\"],[0.8888888888888888,\"#fdca26\"],[1.0,\"#f0f921\"]]}],\"heatmap\":[{\"type\":\"heatmap\",\"colorbar\":{\"outlinewidth\":0,\"ticks\":\"\"},\"colorscale\":[[0.0,\"#0d0887\"],[0.1111111111111111,\"#46039f\"],[0.2222222222222222,\"#7201a8\"],[0.3333333333333333,\"#9c179e\"],[0.4444444444444444,\"#bd3786\"],[0.5555555555555556,\"#d8576b\"],[0.6666666666666666,\"#ed7953\"],[0.7777777777777778,\"#fb9f3a\"],[0.8888888888888888,\"#fdca26\"],[1.0,\"#f0f921\"]]}],\"heatmapgl\":[{\"type\":\"heatmapgl\",\"colorbar\":{\"outlinewidth\":0,\"ticks\":\"\"},\"colorscale\":[[0.0,\"#0d0887\"],[0.1111111111111111,\"#46039f\"],[0.2222222222222222,\"#7201a8\"],[0.3333333333333333,\"#9c179e\"],[0.4444444444444444,\"#bd3786\"],[0.5555555555555556,\"#d8576b\"],[0.6666666666666666,\"#ed7953\"],[0.7777777777777778,\"#fb9f3a\"],[0.8888888888888888,\"#fdca26\"],[1.0,\"#f0f921\"]]}],\"contourcarpet\":[{\"type\":\"contourcarpet\",\"colorbar\":{\"outlinewidth\":0,\"ticks\":\"\"}}],\"contour\":[{\"type\":\"contour\",\"colorbar\":{\"outlinewidth\":0,\"ticks\":\"\"},\"colorscale\":[[0.0,\"#0d0887\"],[0.1111111111111111,\"#46039f\"],[0.2222222222222222,\"#7201a8\"],[0.3333333333333333,\"#9c179e\"],[0.4444444444444444,\"#bd3786\"],[0.5555555555555556,\"#d8576b\"],[0.6666666666666666,\"#ed7953\"],[0.7777777777777778,\"#fb9f3a\"],[0.8888888888888888,\"#fdca26\"],[1.0,\"#f0f921\"]]}],\"surface\":[{\"type\":\"surface\",\"colorbar\":{\"outlinewidth\":0,\"ticks\":\"\"},\"colorscale\":[[0.0,\"#0d0887\"],[0.1111111111111111,\"#46039f\"],[0.2222222222222222,\"#7201a8\"],[0.3333333333333333,\"#9c179e\"],[0.4444444444444444,\"#bd3786\"],[0.5555555555555556,\"#d8576b\"],[0.6666666666666666,\"#ed7953\"],[0.7777777777777778,\"#fb9f3a\"],[0.8888888888888888,\"#fdca26\"],[1.0,\"#f0f921\"]]}],\"mesh3d\":[{\"type\":\"mesh3d\",\"colorbar\":{\"outlinewidth\":0,\"ticks\":\"\"}}],\"scatter\":[{\"fillpattern\":{\"fillmode\":\"overlay\",\"size\":10,\"solidity\":0.2},\"type\":\"scatter\"}],\"parcoords\":[{\"type\":\"parcoords\",\"line\":{\"colorbar\":{\"outlinewidth\":0,\"ticks\":\"\"}}}],\"scatterpolargl\":[{\"type\":\"scatterpolargl\",\"marker\":{\"colorbar\":{\"outlinewidth\":0,\"ticks\":\"\"}}}],\"bar\":[{\"error_x\":{\"color\":\"#2a3f5f\"},\"error_y\":{\"color\":\"#2a3f5f\"},\"marker\":{\"line\":{\"color\":\"#E5ECF6\",\"width\":0.5},\"pattern\":{\"fillmode\":\"overlay\",\"size\":10,\"solidity\":0.2}},\"type\":\"bar\"}],\"scattergeo\":[{\"type\":\"scattergeo\",\"marker\":{\"colorbar\":{\"outlinewidth\":0,\"ticks\":\"\"}}}],\"scatterpolar\":[{\"type\":\"scatterpolar\",\"marker\":{\"colorbar\":{\"outlinewidth\":0,\"ticks\":\"\"}}}],\"histogram\":[{\"marker\":{\"pattern\":{\"fillmode\":\"overlay\",\"size\":10,\"solidity\":0.2}},\"type\":\"histogram\"}],\"scattergl\":[{\"type\":\"scattergl\",\"marker\":{\"colorbar\":{\"outlinewidth\":0,\"ticks\":\"\"}}}],\"scatter3d\":[{\"type\":\"scatter3d\",\"line\":{\"colorbar\":{\"outlinewidth\":0,\"ticks\":\"\"}},\"marker\":{\"colorbar\":{\"outlinewidth\":0,\"ticks\":\"\"}}}],\"scattermapbox\":[{\"type\":\"scattermapbox\",\"marker\":{\"colorbar\":{\"outlinewidth\":0,\"ticks\":\"\"}}}],\"scatterternary\":[{\"type\":\"scatterternary\",\"marker\":{\"colorbar\":{\"outlinewidth\":0,\"ticks\":\"\"}}}],\"scattercarpet\":[{\"type\":\"scattercarpet\",\"marker\":{\"colorbar\":{\"outlinewidth\":0,\"ticks\":\"\"}}}],\"carpet\":[{\"aaxis\":{\"endlinecolor\":\"#2a3f5f\",\"gridcolor\":\"white\",\"linecolor\":\"white\",\"minorgridcolor\":\"white\",\"startlinecolor\":\"#2a3f5f\"},\"baxis\":{\"endlinecolor\":\"#2a3f5f\",\"gridcolor\":\"white\",\"linecolor\":\"white\",\"minorgridcolor\":\"white\",\"startlinecolor\":\"#2a3f5f\"},\"type\":\"carpet\"}],\"table\":[{\"cells\":{\"fill\":{\"color\":\"#EBF0F8\"},\"line\":{\"color\":\"white\"}},\"header\":{\"fill\":{\"color\":\"#C8D4E3\"},\"line\":{\"color\":\"white\"}},\"type\":\"table\"}],\"barpolar\":[{\"marker\":{\"line\":{\"color\":\"#E5ECF6\",\"width\":0.5},\"pattern\":{\"fillmode\":\"overlay\",\"size\":10,\"solidity\":0.2}},\"type\":\"barpolar\"}],\"pie\":[{\"automargin\":true,\"type\":\"pie\"}]},\"layout\":{\"autotypenumbers\":\"strict\",\"colorway\":[\"#636efa\",\"#EF553B\",\"#00cc96\",\"#ab63fa\",\"#FFA15A\",\"#19d3f3\",\"#FF6692\",\"#B6E880\",\"#FF97FF\",\"#FECB52\"],\"font\":{\"color\":\"#2a3f5f\"},\"hovermode\":\"closest\",\"hoverlabel\":{\"align\":\"left\"},\"paper_bgcolor\":\"white\",\"plot_bgcolor\":\"#E5ECF6\",\"polar\":{\"bgcolor\":\"#E5ECF6\",\"angularaxis\":{\"gridcolor\":\"white\",\"linecolor\":\"white\",\"ticks\":\"\"},\"radialaxis\":{\"gridcolor\":\"white\",\"linecolor\":\"white\",\"ticks\":\"\"}},\"ternary\":{\"bgcolor\":\"#E5ECF6\",\"aaxis\":{\"gridcolor\":\"white\",\"linecolor\":\"white\",\"ticks\":\"\"},\"baxis\":{\"gridcolor\":\"white\",\"linecolor\":\"white\",\"ticks\":\"\"},\"caxis\":{\"gridcolor\":\"white\",\"linecolor\":\"white\",\"ticks\":\"\"}},\"coloraxis\":{\"colorbar\":{\"outlinewidth\":0,\"ticks\":\"\"}},\"colorscale\":{\"sequential\":[[0.0,\"#0d0887\"],[0.1111111111111111,\"#46039f\"],[0.2222222222222222,\"#7201a8\"],[0.3333333333333333,\"#9c179e\"],[0.4444444444444444,\"#bd3786\"],[0.5555555555555556,\"#d8576b\"],[0.6666666666666666,\"#ed7953\"],[0.7777777777777778,\"#fb9f3a\"],[0.8888888888888888,\"#fdca26\"],[1.0,\"#f0f921\"]],\"sequentialminus\":[[0.0,\"#0d0887\"],[0.1111111111111111,\"#46039f\"],[0.2222222222222222,\"#7201a8\"],[0.3333333333333333,\"#9c179e\"],[0.4444444444444444,\"#bd3786\"],[0.5555555555555556,\"#d8576b\"],[0.6666666666666666,\"#ed7953\"],[0.7777777777777778,\"#fb9f3a\"],[0.8888888888888888,\"#fdca26\"],[1.0,\"#f0f921\"]],\"diverging\":[[0,\"#8e0152\"],[0.1,\"#c51b7d\"],[0.2,\"#de77ae\"],[0.3,\"#f1b6da\"],[0.4,\"#fde0ef\"],[0.5,\"#f7f7f7\"],[0.6,\"#e6f5d0\"],[0.7,\"#b8e186\"],[0.8,\"#7fbc41\"],[0.9,\"#4d9221\"],[1,\"#276419\"]]},\"xaxis\":{\"gridcolor\":\"white\",\"linecolor\":\"white\",\"ticks\":\"\",\"title\":{\"standoff\":15},\"zerolinecolor\":\"white\",\"automargin\":true,\"zerolinewidth\":2},\"yaxis\":{\"gridcolor\":\"white\",\"linecolor\":\"white\",\"ticks\":\"\",\"title\":{\"standoff\":15},\"zerolinecolor\":\"white\",\"automargin\":true,\"zerolinewidth\":2},\"scene\":{\"xaxis\":{\"backgroundcolor\":\"#E5ECF6\",\"gridcolor\":\"white\",\"linecolor\":\"white\",\"showbackground\":true,\"ticks\":\"\",\"zerolinecolor\":\"white\",\"gridwidth\":2},\"yaxis\":{\"backgroundcolor\":\"#E5ECF6\",\"gridcolor\":\"white\",\"linecolor\":\"white\",\"showbackground\":true,\"ticks\":\"\",\"zerolinecolor\":\"white\",\"gridwidth\":2},\"zaxis\":{\"backgroundcolor\":\"#E5ECF6\",\"gridcolor\":\"white\",\"linecolor\":\"white\",\"showbackground\":true,\"ticks\":\"\",\"zerolinecolor\":\"white\",\"gridwidth\":2}},\"shapedefaults\":{\"line\":{\"color\":\"#2a3f5f\"}},\"annotationdefaults\":{\"arrowcolor\":\"#2a3f5f\",\"arrowhead\":0,\"arrowwidth\":1},\"geo\":{\"bgcolor\":\"white\",\"landcolor\":\"#E5ECF6\",\"subunitcolor\":\"white\",\"showland\":true,\"showlakes\":true,\"lakecolor\":\"white\"},\"title\":{\"x\":0.05},\"mapbox\":{\"style\":\"light\"}}},\"xaxis\":{\"anchor\":\"y\",\"domain\":[0.0,1.0],\"title\":{\"text\":\"Category\"}},\"yaxis\":{\"anchor\":\"x\",\"domain\":[0.0,1.0],\"title\":{\"text\":\"Value\"}},\"legend\":{\"tracegroupgap\":0},\"title\":{\"text\":\"Bar Plot Example\"},\"barmode\":\"relative\"},                        {\"responsive\": true}                    ).then(function(){\n",
              "                            \n",
              "var gd = document.getElementById('b14ed71e-82b6-4578-ba32-3eaac12a631c');\n",
              "var x = new MutationObserver(function (mutations, observer) {{\n",
              "        var display = window.getComputedStyle(gd).display;\n",
              "        if (!display || display === 'none') {{\n",
              "            console.log([gd, 'removed!']);\n",
              "            Plotly.purge(gd);\n",
              "            observer.disconnect();\n",
              "        }}\n",
              "}});\n",
              "\n",
              "// Listen for the removal of the full notebook cells\n",
              "var notebookContainer = gd.closest('#notebook-container');\n",
              "if (notebookContainer) {{\n",
              "    x.observe(notebookContainer, {childList: true});\n",
              "}}\n",
              "\n",
              "// Listen for the clearing of the current output cell\n",
              "var outputEl = gd.closest('.output');\n",
              "if (outputEl) {{\n",
              "    x.observe(outputEl, {childList: true});\n",
              "}}\n",
              "\n",
              "                        })                };                            </script>        </div>\n",
              "</body>\n",
              "</html>"
            ]
          },
          "metadata": {}
        }
      ]
    },
    {
      "cell_type": "code",
      "source": [
        "#6. Create a DataFrame and add a new column based on an existing column.\n",
        "import pandas as pd\n",
        "# Create a sample DataFrame\n",
        "data = {'Name': ['Alice', 'Bob', 'Charlie', 'David'],\n",
        "        'Age': [25, 30, 35, 20]}\n",
        "df = pd.DataFrame(data)\n",
        "# Add a new column 'Category' based on the 'Age' column\n",
        "df['Category'] = pd.cut(df['Age'], bins=[0, 25, 35, 100], labels=['Young', 'Adult', 'Senior'])\n",
        "print(df)"
      ],
      "metadata": {
        "colab": {
          "base_uri": "https://localhost:8080/"
        },
        "id": "LJ7ZThX1S2r5",
        "outputId": "1400dcc4-c5ae-4adb-fd60-26cff71ffe77"
      },
      "execution_count": 28,
      "outputs": [
        {
          "output_type": "stream",
          "name": "stdout",
          "text": [
            "      Name  Age Category\n",
            "0    Alice   25    Young\n",
            "1      Bob   30    Adult\n",
            "2  Charlie   35    Adult\n",
            "3    David   20    Young\n"
          ]
        }
      ]
    },
    {
      "cell_type": "code",
      "source": [
        "#7. Write a program to perform element-wise multiplication of two NumPy arrays.\n",
        "import numpy as np\n",
        "# Create two NumPy arrays\n",
        "arr1 = np.array([1, 2, 3, 4, 5])\n",
        "arr2 = np.array([6, 7, 8, 9, 10])\n",
        "# Perform element-wise multiplication\n",
        "result = arr1 * arr2\n",
        "print(\"Array 1:\", arr1)\n",
        "print(\"Array 2:\", arr2)\n",
        "print(\"Result:\", result)\n"
      ],
      "metadata": {
        "colab": {
          "base_uri": "https://localhost:8080/"
        },
        "id": "YQrmLk6ZS25f",
        "outputId": "53953d78-78ea-4861-9451-af2ce56d3977"
      },
      "execution_count": 29,
      "outputs": [
        {
          "output_type": "stream",
          "name": "stdout",
          "text": [
            "Array 1: [1 2 3 4 5]\n",
            "Array 2: [ 6  7  8  9 10]\n",
            "Result: [ 6 14 24 36 50]\n"
          ]
        }
      ]
    },
    {
      "cell_type": "code",
      "source": [
        "#8. Create a line plot with multiple lines using Matplotlib.\n",
        "import matplotlib.pyplot as plt\n",
        "import numpy as np\n",
        "# Generate some data\n",
        "x = np.linspace(0, 10, 100)\n",
        "y1 = np.sin(x)\n",
        "y2 = np.cos(x)\n",
        "y3 = np.sin(2*x)\n",
        "# Create the line plot\n",
        "plt.plot(x, y1, label='sin(x)')\n",
        "plt.plot(x, y2, label='cos(x)')\n",
        "plt.plot(x, y3, label='sin(2x)')\n",
        "# Add title and labels\n",
        "plt.title('Line Plot Example')\n",
        "plt.xlabel('X-axis')\n",
        "plt.ylabel('Y-axis')\n",
        "plt.legend()\n",
        "# Display the plot\n",
        "plt.show()"
      ],
      "metadata": {
        "colab": {
          "base_uri": "https://localhost:8080/",
          "height": 472
        },
        "id": "gYKCzVmpS29Y",
        "outputId": "4adc83b8-cbda-4355-f746-221645279b2e"
      },
      "execution_count": 30,
      "outputs": [
        {
          "output_type": "display_data",
          "data": {
            "text/plain": [
              "<Figure size 640x480 with 1 Axes>"
            ],
            "image/png": "[encoded data removed]"
          },
          "metadata": {}
        }
      ]
    },
    {
      "cell_type": "code",
      "source": [
        "#9. Generate a Pandas DataFrame and filter rows where a column value is greater than a threshold.\n",
        "import pandas as pd\n",
        "# Create a sample DataFrame\n",
        "data = {'Name': ['Alice', 'Bob', 'Charlie', 'David', 'Emily'],\n",
        "        'Age': [25, 30, 35, 20, 40],\n",
        "        'Score': [85, 90, 78, 92, 88]}\n",
        "df = pd.DataFrame(data)\n",
        "# Filter rows where 'Score' is greater than 85\n",
        "threshold = 85\n",
        "filtered_df = df[df['Score'] > threshold]\n",
        "\n",
        "print(\"Original DataFrame:\")\n",
        "print(df)\n",
        "print(\"\\nFiltered DataFrame:\")\n",
        "print(filtered_df)"
      ],
      "metadata": {
        "colab": {
          "base_uri": "https://localhost:8080/"
        },
        "id": "ykpTnl-xS3AE",
        "outputId": "5ae16c47-704d-48fb-ce00-9d9f2c98fb42"
      },
      "execution_count": 31,
      "outputs": [
        {
          "output_type": "stream",
          "name": "stdout",
          "text": [
            "Original DataFrame:\n",
            "      Name  Age  Score\n",
            "0    Alice   25     85\n",
            "1      Bob   30     90\n",
            "2  Charlie   35     78\n",
            "3    David   20     92\n",
            "4    Emily   40     88\n",
            "\n",
            "Filtered DataFrame:\n",
            "    Name  Age  Score\n",
            "1    Bob   30     90\n",
            "3  David   20     92\n",
            "4  Emily   40     88\n"
          ]
        }
      ]
    },
    {
      "cell_type": "code",
      "source": [
        "#10. Create a histogram using Seaborn to visualize a distribution.\n",
        "import seaborn as sns\n",
        "import matplotlib.pyplot as plt\n",
        "import numpy as np\n",
        "# Generate some random data\n",
        "np.random.seed(0)\n",
        "data = np.random.randn(1000)\n",
        "# Create a histogram\n",
        "plt.figure(figsize=(8, 6))\n",
        "sns.histplot(data, bins=30, kde=True, color='skyblue')\n",
        "# Add title and labels\n",
        "plt.title('Histogram Example')\n",
        "plt.xlabel('Value')\n",
        "plt.ylabel('Frequency')\n",
        "# Display the plot\n",
        "plt.show()"
      ],
      "metadata": {
        "colab": {
          "base_uri": "https://localhost:8080/",
          "height": 564
        },
        "id": "N23Pum5aS3Dd",
        "outputId": "18b090fd-99e5-4cf7-8854-be9ebc06fa9b"
      },
      "execution_count": 32,
      "outputs": [
        {
          "output_type": "display_data",
          "data": {
            "text/plain": [
              "<Figure size 800x600 with 1 Axes>"
            ],
            "image/png": "[encoded data removed]"
          },
          "metadata": {}
        }
      ]
    },
    {
      "cell_type": "code",
      "source": [
        "#11. A Perform matrix multiplication using NumPy.\n",
        "import numpy as np\n",
        "# Create two matrices\n",
        "matrix1 = np.array([[1, 2], [3, 4]])\n",
        "matrix2 = np.array([[5, 6], [7, 8]])\n",
        "# Perform matrix multiplication\n",
        "result = np.matmul(matrix1, matrix2)\n",
        "print(\"Matrix 1:\")\n",
        "print(matrix1)\n",
        "print(\"\\nMatrix 2:\")\n",
        "print(matrix2)\n",
        "print(\"\\nResult:\")\n",
        "print(result)"
      ],
      "metadata": {
        "colab": {
          "base_uri": "https://localhost:8080/"
        },
        "id": "7zc_j5ztS3HD",
        "outputId": "1e6b4cdc-0146-4203-cf53-5e750bfe72f0"
      },
      "execution_count": 33,
      "outputs": [
        {
          "output_type": "stream",
          "name": "stdout",
          "text": [
            "Matrix 1:\n",
            "[[1 2]\n",
            " [3 4]]\n",
            "\n",
            "Matrix 2:\n",
            "[[5 6]\n",
            " [7 8]]\n",
            "\n",
            "Result:\n",
            "[[19 22]\n",
            " [43 50]]\n"
          ]
        }
      ]
    },
    {
      "cell_type": "code",
      "source": [
        "#12. Use Pandas to load a CSV file and display its first 5 rows.\n",
        "import pandas as pd\n",
        "# Load the CSV file\n",
        "df = pd.read_csv('industry.csv')\n",
        "# Display the first 5 rows\n",
        "print(df.head(5))\n"
      ],
      "metadata": {
        "colab": {
          "base_uri": "https://localhost:8080/"
        },
        "id": "bGMHyLWiTWqI",
        "outputId": "0c163d4d-99be-4415-cbf0-ba209234f7af"
      },
      "execution_count": 34,
      "outputs": [
        {
          "output_type": "stream",
          "name": "stdout",
          "text": [
            "                        Industry\n",
            "0             Accounting/Finance\n",
            "1   Advertising/Public Relations\n",
            "2             Aerospace/Aviation\n",
            "3  Arts/Entertainment/Publishing\n",
            "4                     Automotive\n"
          ]
        }
      ]
    },
    {
      "cell_type": "code",
      "source": [
        "#13. Create a 3D scatter plot using Plotly.\n",
        "import plotly.express as px\n",
        "import pandas as pd\n",
        "import numpy as np\n",
        "# Generate some random 3D data\n",
        "np.random.seed(0)\n",
        "x = np.random.randn(100)\n",
        "y = np.random.randn(100)\n",
        "z = np.random.randn(100)\n",
        "# Create a DataFrame\n",
        "df = pd.DataFrame({'x': x, 'y': y, 'z': z})\n",
        "# Create a 3D scatter plot\n",
        "fig = px.scatter_3d(df, x='x', y='y', z='z')\n",
        "fig.update_layout(title='3D Scatter Plot Example')\n",
        "# Display the plot\n",
        "fig.show()"
      ],
      "metadata": {
        "colab": {
          "base_uri": "https://localhost:8080/",
          "height": 542
        },
        "id": "vn2WY_eZTW6B",
        "outputId": "739568fa-d4f2-434c-a0a5-fe67d7886572"
      },
      "execution_count": 35,
      "outputs": [
        {
          "output_type": "display_data",
          "data": {
            "text/html": [
              "<html>\n",
              "<head><meta charset=\"utf-8\" /></head>\n",
              "<body>\n",
              "    <div>            <script src=\"https://cdnjs.cloudflare.com/ajax/libs/mathjax/2.7.5/MathJax.js?config=TeX-AMS-MML_SVG\"></script><script type=\"text/javascript\">if (window.MathJax && window.MathJax.Hub && window.MathJax.Hub.Config) {window.MathJax.Hub.Config({SVG: {font: \"STIX-Web\"}});}</script>                <script type=\"text/javascript\">window.PlotlyConfig = {MathJaxConfig: 'local'};</script>\n",
              "        <script charset=\"utf-8\" src=\"https://cdn.plot.ly/plotly-2.35.2.min.js\"></script>                <div id=\"8d159c7d-f126-43a8-bcdd-99278294604d\" class=\"plotly-graph-div\" style=\"height:525px; width:100%;\"></div>            <script type=\"text/javascript\">                                    window.PLOTLYENV=window.PLOTLYENV || {};                                    if (document.getElementById(\"8d159c7d-f126-43a8-bcdd-99278294604d\")) {                    Plotly.newPlot(                        \"8d159c7d-f126-43a8-bcdd-99278294604d\",                        [{\"hovertemplate\":\"x=%{x}\\u003cbr\\u003ey=%{y}\\u003cbr\\u003ez=%{z}\\u003cextra\\u003e\\u003c\\u002fextra\\u003e\",\"legendgroup\":\"\",\"marker\":{\"color\":\"#636efa\",\"symbol\":\"circle\"},\"mode\":\"markers\",\"name\":\"\",\"scene\":\"scene\",\"showlegend\":false,\"x\":[1.764052345967664,0.4001572083672233,0.9787379841057392,2.240893199201458,1.8675579901499675,-0.977277879876411,0.9500884175255894,-0.1513572082976979,-0.10321885179355784,0.41059850193837233,0.144043571160878,1.454273506962975,0.7610377251469934,0.12167501649282841,0.44386323274542566,0.33367432737426683,1.4940790731576061,-0.20515826376580087,0.31306770165090136,-0.8540957393017248,-2.5529898158340787,0.6536185954403606,0.8644361988595057,-0.7421650204064419,2.2697546239876076,-1.4543656745987648,0.04575851730144607,-0.1871838500258336,1.5327792143584575,1.469358769900285,0.1549474256969163,0.37816251960217356,-0.8877857476301128,-1.980796468223927,-0.3479121493261526,0.15634896910398005,1.2302906807277207,1.2023798487844113,-0.3873268174079523,-0.30230275057533557,-1.0485529650670926,-1.4200179371789752,-1.7062701906250126,1.9507753952317897,-0.5096521817516535,-0.4380743016111864,-1.2527953600499262,0.7774903558319101,-1.6138978475579515,-0.2127402802139687,-0.8954665611936756,0.386902497859262,-0.510805137568873,-1.180632184122412,-0.028182228338654868,0.42833187053041766,0.06651722238316789,0.3024718977397814,-0.6343220936809636,-0.3627411659871381,-0.672460447775951,-0.3595531615405413,-0.813146282044454,-1.7262826023316769,0.17742614225375283,-0.4017809362082619,-1.6301983469660446,0.4627822555257742,-0.9072983643832422,0.05194539579613895,0.7290905621775369,0.12898291075741067,1.1394006845433007,-1.2348258203536526,0.402341641177549,-0.6848100909403132,-0.8707971491818818,-0.5788496647644155,-0.31155253212737266,0.05616534222974544,-1.1651498407833565,0.9008264869541871,0.46566243973045984,-1.5362436862772237,1.4882521937955997,1.8958891760305832,1.1787795711596507,-0.17992483581235091,-1.0707526215105425,1.0544517269311366,-0.40317694697317963,1.2224450703824274,0.2082749780768603,0.9766390364837128,0.3563663971744019,0.7065731681919482,0.010500020720820478,1.7858704939058352,0.12691209270361992,0.40198936344470165],\"y\":[1.8831506970562544,-1.3477590611424464,-1.2704849984857336,0.9693967081580112,-1.17312340511416,1.9436211856492926,-0.41361898075974735,-0.7474548114407578,1.9229420264803847,1.4805147914344243,1.8675589604265699,0.9060446582753853,-0.8612256850547025,1.9100649530990337,-0.2680033709513804,0.8024563957963952,0.947251967773748,-0.1550100930908342,0.6140793703460803,0.9222066715665268,0.37642553115562943,-1.0994007905841945,0.298238174206056,1.3263858966870303,-0.6945678597313655,-0.14963454032767076,-0.43515355172163744,1.8492637284793418,0.6722947570124355,0.40746183624111043,-0.7699160744453164,0.5392491912918173,-0.6743326606573761,0.03183055827435118,-0.635846078378881,0.6764332949464997,0.5765908166149409,-0.20829875557799488,0.3960067126616453,-1.0930615087305058,-1.4912575927056055,0.4393917012645369,0.16667349537252904,0.6350314368921064,2.383144774863942,0.9444794869904138,-0.9128222254441586,1.117016288095853,-1.3159074105115212,-0.461584604814709,-0.06824160532463124,1.7133427216493666,-0.7447548220484399,-0.8264385386590144,-0.0984525244254323,-0.6634782863621074,1.126635922106507,-1.0799315083634233,-1.1474686524111024,-0.43782004474443403,-0.4980324506923049,1.9295320538169858,0.9494208069257608,0.0875512413851909,-1.225435518830168,0.8443629764015471,-1.0002153473895647,-1.5447710967776116,1.1880297923523018,0.3169426119248496,0.920858823780819,0.3187276529430212,0.8568306119026912,-0.6510255933001469,-1.0342428417844647,0.681594518281627,-0.8034096641738411,-0.6895497777502005,-0.45553250351734315,0.01747915902505673,-0.35399391125348395,-1.3749512934180188,-0.6436184028328905,-2.2234031522244266,0.6252314510271875,-1.6020576556067476,-1.1043833394284506,0.052165079260974405,-0.7395629963913133,1.5430145954067358,-1.2928569097234486,0.26705086934918293,-0.0392828182274956,-1.1680934977411974,0.5232766605317537,-0.1715463312222481,0.7717905512136674,0.8235041539637314,2.16323594928069,1.336527949436392],\"z\":[-0.3691818379424436,-0.2393791775759264,1.0996595958871132,0.6552637307225978,0.640131526097592,-1.6169560443108344,-0.024326124398935636,-0.7380309092056887,0.27992459904323824,-0.09815038964295794,0.9101789080925919,0.31721821519130206,0.7863279621089762,-0.46641909673594306,-0.9444462559182504,-0.41004969320254847,-0.017020413861440594,0.3791517355550818,2.259308950690852,-0.04225715166064269,-0.955945000492777,-0.34598177569938643,-0.4635959746460942,0.4814814737734622,-1.5407970144446248,0.06326199420033171,0.1565065379653756,0.23218103620027578,-0.5973160689653627,-0.237921729736007,-1.4240609089825316,-0.49331988336219407,-0.5428614760167177,0.4160500462614255,-1.1561824318219127,0.7811981017099934,1.4944845444913688,-2.0699850250135325,0.42625873077810095,0.6769080350302455,-0.637437025552229,-0.39727181432879766,-0.13288057758695562,-0.2977908794017283,-0.3090129690471222,-1.6760038063299767,1.15233156478312,1.079618592036821,-0.8133642592042029,-1.466424327802514,0.5210648764527586,-0.5757879698130661,0.14195316332077967,-0.3193284171450952,0.6915387510701866,0.6947491436560059,-0.7255973784635843,-1.3833639553950554,-1.582938397335082,0.6103793791072052,-1.188859257784029,-0.5068163542986875,-0.5963140384505081,-0.05256729626954629,-1.936279805846507,0.18877859679382855,0.5238910238342056,0.08842208704466141,-0.3108861716984717,0.09740016626878341,0.3990463456401302,-2.77259275642665,1.9559123082506942,0.39009332268792646,-0.65240858238702,-0.3909533751876011,0.49374177734918845,-0.11610393903436653,-2.0306844677814944,2.0644928613593194,-0.11054065723247261,1.0201727117157997,-0.6920498477843912,1.5363770542457977,0.28634368889227957,0.6088438344754508,-1.0452533661469547,1.2111452896827009,0.6898181645347884,1.3018462295649984,-0.6280875596415789,-0.4810271184607877,2.303916697683942,-1.0600158227215473,-0.13594970067832082,1.1368913626026953,0.0977249677148556,0.5829536797532936,-0.3994490292628752,0.37005588784751875],\"type\":\"scatter3d\"}],                        {\"template\":{\"data\":{\"histogram2dcontour\":[{\"type\":\"histogram2dcontour\",\"colorbar\":{\"outlinewidth\":0,\"ticks\":\"\"},\"colorscale\":[[0.0,\"#0d0887\"],[0.1111111111111111,\"#46039f\"],[0.2222222222222222,\"#7201a8\"],[0.3333333333333333,\"#9c179e\"],[0.4444444444444444,\"#bd3786\"],[0.5555555555555556,\"#d8576b\"],[0.6666666666666666,\"#ed7953\"],[0.7777777777777778,\"#fb9f3a\"],[0.8888888888888888,\"#fdca26\"],[1.0,\"#f0f921\"]]}],\"choropleth\":[{\"type\":\"choropleth\",\"colorbar\":{\"outlinewidth\":0,\"ticks\":\"\"}}],\"histogram2d\":[{\"type\":\"histogram2d\",\"colorbar\":{\"outlinewidth\":0,\"ticks\":\"\"},\"colorscale\":[[0.0,\"#0d0887\"],[0.1111111111111111,\"#46039f\"],[0.2222222222222222,\"#7201a8\"],[0.3333333333333333,\"#9c179e\"],[0.4444444444444444,\"#bd3786\"],[0.5555555555555556,\"#d8576b\"],[0.6666666666666666,\"#ed7953\"],[0.7777777777777778,\"#fb9f3a\"],[0.8888888888888888,\"#fdca26\"],[1.0,\"#f0f921\"]]}],\"heatmap\":[{\"type\":\"heatmap\",\"colorbar\":{\"outlinewidth\":0,\"ticks\":\"\"},\"colorscale\":[[0.0,\"#0d0887\"],[0.1111111111111111,\"#46039f\"],[0.2222222222222222,\"#7201a8\"],[0.3333333333333333,\"#9c179e\"],[0.4444444444444444,\"#bd3786\"],[0.5555555555555556,\"#d8576b\"],[0.6666666666666666,\"#ed7953\"],[0.7777777777777778,\"#fb9f3a\"],[0.8888888888888888,\"#fdca26\"],[1.0,\"#f0f921\"]]}],\"heatmapgl\":[{\"type\":\"heatmapgl\",\"colorbar\":{\"outlinewidth\":0,\"ticks\":\"\"},\"colorscale\":[[0.0,\"#0d0887\"],[0.1111111111111111,\"#46039f\"],[0.2222222222222222,\"#7201a8\"],[0.3333333333333333,\"#9c179e\"],[0.4444444444444444,\"#bd3786\"],[0.5555555555555556,\"#d8576b\"],[0.6666666666666666,\"#ed7953\"],[0.7777777777777778,\"#fb9f3a\"],[0.8888888888888888,\"#fdca26\"],[1.0,\"#f0f921\"]]}],\"contourcarpet\":[{\"type\":\"contourcarpet\",\"colorbar\":{\"outlinewidth\":0,\"ticks\":\"\"}}],\"contour\":[{\"type\":\"contour\",\"colorbar\":{\"outlinewidth\":0,\"ticks\":\"\"},\"colorscale\":[[0.0,\"#0d0887\"],[0.1111111111111111,\"#46039f\"],[0.2222222222222222,\"#7201a8\"],[0.3333333333333333,\"#9c179e\"],[0.4444444444444444,\"#bd3786\"],[0.5555555555555556,\"#d8576b\"],[0.6666666666666666,\"#ed7953\"],[0.7777777777777778,\"#fb9f3a\"],[0.8888888888888888,\"#fdca26\"],[1.0,\"#f0f921\"]]}],\"surface\":[{\"type\":\"surface\",\"colorbar\":{\"outlinewidth\":0,\"ticks\":\"\"},\"colorscale\":[[0.0,\"#0d0887\"],[0.1111111111111111,\"#46039f\"],[0.2222222222222222,\"#7201a8\"],[0.3333333333333333,\"#9c179e\"],[0.4444444444444444,\"#bd3786\"],[0.5555555555555556,\"#d8576b\"],[0.6666666666666666,\"#ed7953\"],[0.7777777777777778,\"#fb9f3a\"],[0.8888888888888888,\"#fdca26\"],[1.0,\"#f0f921\"]]}],\"mesh3d\":[{\"type\":\"mesh3d\",\"colorbar\":{\"outlinewidth\":0,\"ticks\":\"\"}}],\"scatter\":[{\"fillpattern\":{\"fillmode\":\"overlay\",\"size\":10,\"solidity\":0.2},\"type\":\"scatter\"}],\"parcoords\":[{\"type\":\"parcoords\",\"line\":{\"colorbar\":{\"outlinewidth\":0,\"ticks\":\"\"}}}],\"scatterpolargl\":[{\"type\":\"scatterpolargl\",\"marker\":{\"colorbar\":{\"outlinewidth\":0,\"ticks\":\"\"}}}],\"bar\":[{\"error_x\":{\"color\":\"#2a3f5f\"},\"error_y\":{\"color\":\"#2a3f5f\"},\"marker\":{\"line\":{\"color\":\"#E5ECF6\",\"width\":0.5},\"pattern\":{\"fillmode\":\"overlay\",\"size\":10,\"solidity\":0.2}},\"type\":\"bar\"}],\"scattergeo\":[{\"type\":\"scattergeo\",\"marker\":{\"colorbar\":{\"outlinewidth\":0,\"ticks\":\"\"}}}],\"scatterpolar\":[{\"type\":\"scatterpolar\",\"marker\":{\"colorbar\":{\"outlinewidth\":0,\"ticks\":\"\"}}}],\"histogram\":[{\"marker\":{\"pattern\":{\"fillmode\":\"overlay\",\"size\":10,\"solidity\":0.2}},\"type\":\"histogram\"}],\"scattergl\":[{\"type\":\"scattergl\",\"marker\":{\"colorbar\":{\"outlinewidth\":0,\"ticks\":\"\"}}}],\"scatter3d\":[{\"type\":\"scatter3d\",\"line\":{\"colorbar\":{\"outlinewidth\":0,\"ticks\":\"\"}},\"marker\":{\"colorbar\":{\"outlinewidth\":0,\"ticks\":\"\"}}}],\"scattermapbox\":[{\"type\":\"scattermapbox\",\"marker\":{\"colorbar\":{\"outlinewidth\":0,\"ticks\":\"\"}}}],\"scatterternary\":[{\"type\":\"scatterternary\",\"marker\":{\"colorbar\":{\"outlinewidth\":0,\"ticks\":\"\"}}}],\"scattercarpet\":[{\"type\":\"scattercarpet\",\"marker\":{\"colorbar\":{\"outlinewidth\":0,\"ticks\":\"\"}}}],\"carpet\":[{\"aaxis\":{\"endlinecolor\":\"#2a3f5f\",\"gridcolor\":\"white\",\"linecolor\":\"white\",\"minorgridcolor\":\"white\",\"startlinecolor\":\"#2a3f5f\"},\"baxis\":{\"endlinecolor\":\"#2a3f5f\",\"gridcolor\":\"white\",\"linecolor\":\"white\",\"minorgridcolor\":\"white\",\"startlinecolor\":\"#2a3f5f\"},\"type\":\"carpet\"}],\"table\":[{\"cells\":{\"fill\":{\"color\":\"#EBF0F8\"},\"line\":{\"color\":\"white\"}},\"header\":{\"fill\":{\"color\":\"#C8D4E3\"},\"line\":{\"color\":\"white\"}},\"type\":\"table\"}],\"barpolar\":[{\"marker\":{\"line\":{\"color\":\"#E5ECF6\",\"width\":0.5},\"pattern\":{\"fillmode\":\"overlay\",\"size\":10,\"solidity\":0.2}},\"type\":\"barpolar\"}],\"pie\":[{\"automargin\":true,\"type\":\"pie\"}]},\"layout\":{\"autotypenumbers\":\"strict\",\"colorway\":[\"#636efa\",\"#EF553B\",\"#00cc96\",\"#ab63fa\",\"#FFA15A\",\"#19d3f3\",\"#FF6692\",\"#B6E880\",\"#FF97FF\",\"#FECB52\"],\"font\":{\"color\":\"#2a3f5f\"},\"hovermode\":\"closest\",\"hoverlabel\":{\"align\":\"left\"},\"paper_bgcolor\":\"white\",\"plot_bgcolor\":\"#E5ECF6\",\"polar\":{\"bgcolor\":\"#E5ECF6\",\"angularaxis\":{\"gridcolor\":\"white\",\"linecolor\":\"white\",\"ticks\":\"\"},\"radialaxis\":{\"gridcolor\":\"white\",\"linecolor\":\"white\",\"ticks\":\"\"}},\"ternary\":{\"bgcolor\":\"#E5ECF6\",\"aaxis\":{\"gridcolor\":\"white\",\"linecolor\":\"white\",\"ticks\":\"\"},\"baxis\":{\"gridcolor\":\"white\",\"linecolor\":\"white\",\"ticks\":\"\"},\"caxis\":{\"gridcolor\":\"white\",\"linecolor\":\"white\",\"ticks\":\"\"}},\"coloraxis\":{\"colorbar\":{\"outlinewidth\":0,\"ticks\":\"\"}},\"colorscale\":{\"sequential\":[[0.0,\"#0d0887\"],[0.1111111111111111,\"#46039f\"],[0.2222222222222222,\"#7201a8\"],[0.3333333333333333,\"#9c179e\"],[0.4444444444444444,\"#bd3786\"],[0.5555555555555556,\"#d8576b\"],[0.6666666666666666,\"#ed7953\"],[0.7777777777777778,\"#fb9f3a\"],[0.8888888888888888,\"#fdca26\"],[1.0,\"#f0f921\"]],\"sequentialminus\":[[0.0,\"#0d0887\"],[0.1111111111111111,\"#46039f\"],[0.2222222222222222,\"#7201a8\"],[0.3333333333333333,\"#9c179e\"],[0.4444444444444444,\"#bd3786\"],[0.5555555555555556,\"#d8576b\"],[0.6666666666666666,\"#ed7953\"],[0.7777777777777778,\"#fb9f3a\"],[0.8888888888888888,\"#fdca26\"],[1.0,\"#f0f921\"]],\"diverging\":[[0,\"#8e0152\"],[0.1,\"#c51b7d\"],[0.2,\"#de77ae\"],[0.3,\"#f1b6da\"],[0.4,\"#fde0ef\"],[0.5,\"#f7f7f7\"],[0.6,\"#e6f5d0\"],[0.7,\"#b8e186\"],[0.8,\"#7fbc41\"],[0.9,\"#4d9221\"],[1,\"#276419\"]]},\"xaxis\":{\"gridcolor\":\"white\",\"linecolor\":\"white\",\"ticks\":\"\",\"title\":{\"standoff\":15},\"zerolinecolor\":\"white\",\"automargin\":true,\"zerolinewidth\":2},\"yaxis\":{\"gridcolor\":\"white\",\"linecolor\":\"white\",\"ticks\":\"\",\"title\":{\"standoff\":15},\"zerolinecolor\":\"white\",\"automargin\":true,\"zerolinewidth\":2},\"scene\":{\"xaxis\":{\"backgroundcolor\":\"#E5ECF6\",\"gridcolor\":\"white\",\"linecolor\":\"white\",\"showbackground\":true,\"ticks\":\"\",\"zerolinecolor\":\"white\",\"gridwidth\":2},\"yaxis\":{\"backgroundcolor\":\"#E5ECF6\",\"gridcolor\":\"white\",\"linecolor\":\"white\",\"showbackground\":true,\"ticks\":\"\",\"zerolinecolor\":\"white\",\"gridwidth\":2},\"zaxis\":{\"backgroundcolor\":\"#E5ECF6\",\"gridcolor\":\"white\",\"linecolor\":\"white\",\"showbackground\":true,\"ticks\":\"\",\"zerolinecolor\":\"white\",\"gridwidth\":2}},\"shapedefaults\":{\"line\":{\"color\":\"#2a3f5f\"}},\"annotationdefaults\":{\"arrowcolor\":\"#2a3f5f\",\"arrowhead\":0,\"arrowwidth\":1},\"geo\":{\"bgcolor\":\"white\",\"landcolor\":\"#E5ECF6\",\"subunitcolor\":\"white\",\"showland\":true,\"showlakes\":true,\"lakecolor\":\"white\"},\"title\":{\"x\":0.05},\"mapbox\":{\"style\":\"light\"}}},\"scene\":{\"domain\":{\"x\":[0.0,1.0],\"y\":[0.0,1.0]},\"xaxis\":{\"title\":{\"text\":\"x\"}},\"yaxis\":{\"title\":{\"text\":\"y\"}},\"zaxis\":{\"title\":{\"text\":\"z\"}}},\"legend\":{\"tracegroupgap\":0},\"margin\":{\"t\":60},\"title\":{\"text\":\"3D Scatter Plot Example\"}},                        {\"responsive\": true}                    ).then(function(){\n",
              "                            \n",
              "var gd = document.getElementById('8d159c7d-f126-43a8-bcdd-99278294604d');\n",
              "var x = new MutationObserver(function (mutations, observer) {{\n",
              "        var display = window.getComputedStyle(gd).display;\n",
              "        if (!display || display === 'none') {{\n",
              "            console.log([gd, 'removed!']);\n",
              "            Plotly.purge(gd);\n",
              "            observer.disconnect();\n",
              "        }}\n",
              "}});\n",
              "\n",
              "// Listen for the removal of the full notebook cells\n",
              "var notebookContainer = gd.closest('#notebook-container');\n",
              "if (notebookContainer) {{\n",
              "    x.observe(notebookContainer, {childList: true});\n",
              "}}\n",
              "\n",
              "// Listen for the clearing of the current output cell\n",
              "var outputEl = gd.closest('.output');\n",
              "if (outputEl) {{\n",
              "    x.observe(outputEl, {childList: true});\n",
              "}}\n",
              "\n",
              "                        })                };                            </script>        </div>\n",
              "</body>\n",
              "</html>"
            ]
          },
          "metadata": {}
        }
      ]
    }
  ]
}